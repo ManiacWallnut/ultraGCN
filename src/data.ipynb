{
 "cells": [
  {
   "cell_type": "code",
   "execution_count": 1,
   "metadata": {},
   "outputs": [
    {
     "name": "stderr",
     "output_type": "stream",
     "text": [
      "/Users/sunukkim/miniconda3/envs/UltraGCN/lib/python3.7/site-packages/tqdm/auto.py:21: TqdmWarning: IProgress not found. Please update jupyter and ipywidgets. See https://ipywidgets.readthedocs.io/en/stable/user_install.html\n",
      "  from .autonotebook import tqdm as notebook_tqdm\n"
     ]
    },
    {
     "name": "stdout",
     "output_type": "stream",
     "text": [
      "Testing Train Dataset\n",
      "Train dataset size: 2380730\n",
      "First sample in train dataset: (0, 0)\n",
      "Number of users: 52643, Number of items: 91599\n",
      "Train matrix shape: (52643, 91599)\n",
      "Constraint matrix (beta_uD, beta_iD): {'beta_uD': tensor([0.1387, 0.0553, 0.1474,  ..., 0.2577, 0.2577, 0.2083]), 'beta_iD': tensor([0.1313, 0.0655, 0.1336,  ..., 0.7071, 0.7071, 0.7071])}\n",
      "\n",
      "Testing Test Dataset\n",
      "Test dataset size: 603378\n",
      "First sample in test dataset: (0, 7202)\n",
      "Number of users in test dataset: 52643, Number of items in test dataset: 91599\n"
     ]
    }
   ],
   "source": [
    "# 필요한 라이브러리 임포트\n",
    "import os\n",
    "import numpy as np\n",
    "import torch\n",
    "from ultra_data import UltraDataset\n",
    "\n",
    "# 데이터 경로 설정\n",
    "data_path = \"/Users/sunukkim/workspace/Research/ml-project-template/datasets/AmazonBooks_m1\"\n",
    "\n",
    "# 학습 데이터셋 테스트\n",
    "print(\"Testing Train Dataset\")\n",
    "train_dataset = UltraDataset(data_path, train=True)\n",
    "\n",
    "# 데이터셋 크기 확인\n",
    "print(f\"Train dataset size: {len(train_dataset)}\")\n",
    "\n",
    "# 데이터셋에서 첫 번째 샘플 확인\n",
    "print(\"First sample in train dataset:\", train_dataset[0])\n",
    "\n",
    "# 사용자 수와 아이템 수 확인\n",
    "n_user, m_item = train_dataset.get_user_item_counts()\n",
    "print(f\"Number of users: {n_user}, Number of items: {m_item}\")\n",
    "\n",
    "# 학습 데이터의 희소 행렬 확인\n",
    "train_matrix = train_dataset.get_train_matrix()\n",
    "print(\"Train matrix shape:\", train_matrix.shape)\n",
    "\n",
    "# 제약 행렬 확인\n",
    "constraint_matrix = train_dataset.get_constraint_matrix()\n",
    "print(\"Constraint matrix (beta_uD, beta_iD):\", constraint_matrix)\n",
    "\n",
    "# 테스트 데이터셋 테스트\n",
    "print(\"\\nTesting Test Dataset\")\n",
    "test_dataset = UltraDataset(data_path, train=False)\n",
    "\n",
    "# 테스트 데이터셋 크기 확인\n",
    "print(f\"Test dataset size: {len(test_dataset)}\")\n",
    "\n",
    "# 테스트 데이터셋에서 첫 번째 샘플 확인\n",
    "print(\"First sample in test dataset:\", test_dataset[0])\n",
    "\n",
    "# 사용자 수와 아이템 수 확인\n",
    "n_user_test, m_item_test = test_dataset.get_user_item_counts()\n",
    "print(f\"Number of users in test dataset: {n_user_test}, Number of items in test dataset: {m_item_test}\")\n"
   ]
  }
 ],
 "metadata": {
  "kernelspec": {
   "display_name": "UltraGCN",
   "language": "python",
   "name": "python3"
  },
  "language_info": {
   "codemirror_mode": {
    "name": "ipython",
    "version": 3
   },
   "file_extension": ".py",
   "mimetype": "text/x-python",
   "name": "python",
   "nbconvert_exporter": "python",
   "pygments_lexer": "ipython3",
   "version": "3.7.12"
  },
  "orig_nbformat": 4
 },
 "nbformat": 4,
 "nbformat_minor": 2
}
